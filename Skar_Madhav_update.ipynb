{
 "cells": [
  {
   "cell_type": "code",
   "execution_count": 1,
   "metadata": {},
   "outputs": [],
   "source": [
    "import csv\n",
    "import pandas as pd\n",
    "import numpy as np\n",
    "from sklearn.preprocessing import MinMaxScaler, LabelEncoder\n",
    "from sklearn.ensemble import RandomForestClassifier\n",
    "from sklearn.model_selection import KFold, cross_val_score, train_test_split\n",
    "from sklearn.metrics import f1_score, precision_recall_curve, precision_score, recall_score, accuracy_score, confusion_matrix\n"
   ]
  },
  {
   "cell_type": "code",
   "execution_count": 2,
   "metadata": {},
   "outputs": [],
   "source": [
    "# Label Encoders to convert each qualitative variable into a quantitave variable\n",
    "\n",
    "le = LabelEncoder()\n",
    "le_gender = LabelEncoder()\n",
    "le_rvsp = LabelEncoder()\n",
    "le_rv_function = LabelEncoder()\n",
    "le_size = LabelEncoder()\n",
    "le_intervention = LabelEncoder()\n",
    "le_sloe = LabelEncoder()"
   ]
  },
  {
   "cell_type": "code",
   "execution_count": 3,
   "metadata": {},
   "outputs": [],
   "source": [
    "# Function to parse data from csv into a list\n",
    "\n",
    "all_cols = []\n",
    "def get_data(filename):\n",
    "    with open(filename, \"rt\", encoding='utf8') as f:\n",
    "        reader = csv.reader(f)\n",
    "        i = next(reader, None)\n",
    "        file = csv.reader(f)\n",
    "        temp = list(file)\n",
    "    return temp, i"
   ]
  },
  {
   "cell_type": "code",
   "execution_count": 4,
   "metadata": {},
   "outputs": [],
   "source": [
    "# Establishing feature columns and associated headers\n",
    "\n",
    "col_names = ['Sex (M/F)',\n",
    "            'BMI',\n",
    "            'DM (1/0)',\n",
    "            'HTN (1/0)',\n",
    "            'COPD (1/0)',\n",
    "            'CTEPH (1/0)',\n",
    "            'ESRD (1/0)',\n",
    "            'Hx of Malignancy (1/0)',\n",
    "            'Original EDA  (cm2)',\n",
    "            'Original ESA (cm2)',\n",
    "            'Original FAC (%)',\n",
    "            'Original EndoGLS (%)',\n",
    "            'Size/Location of Embolus',\n",
    "            'RVSP',\n",
    "            'RV Size',\n",
    "            'RV Function',\n",
    "            'McConnell\\'s Sign',\n",
    "            'TR Velocity',\n",
    "            'Intervention']"
   ]
  },
  {
   "cell_type": "code",
   "execution_count": 5,
   "metadata": {},
   "outputs": [],
   "source": [
    "# Function to remove 'N/A' From feature columns and replace with mean\n",
    "\n",
    "def clean_and_mean(lists):\n",
    "    lists = lists.replace('N/A', np.NaN)\n",
    "    num_lists = lists.apply(pd.to_numeric, errors ='coerce')\n",
    "    cleaned_lists = num_lists.apply(lambda x: x.fillna(x.mean()))\n",
    "    return(np.array(cleaned_lists))\n",
    "\n",
    "scaler = MinMaxScaler(feature_range=(0, 1))"
   ]
  },
  {
   "cell_type": "code",
   "execution_count": 6,
   "metadata": {},
   "outputs": [],
   "source": [
    "# Function to seperate features and labels. The label_column defines the expected output in terms of suprevised learning. \n",
    "\n",
    "def seperate_features_and_labels(file, col_ind, label_column, columns):\n",
    "    features = []\n",
    "    labels = []\n",
    "    for row in file:\n",
    "        filt_row = list(row[i] for i in col_ind)\n",
    "        features.append(filt_row)\n",
    "        labels.append(int(row[label_column]))\n",
    "    \n",
    "    \n",
    "    df_features = pd.DataFrame(features, columns=columns)\n",
    "    df_features['Sex (M/F)'] = le_gender.fit_transform(df_features['Sex (M/F)'])\n",
    "    df_features['RVSP'] = le_rvsp.fit_transform(df_features['RVSP'])\n",
    "    df_features['RV Size'] = le_size.fit_transform(df_features['RV Size'])\n",
    "    df_features['RV Function'] = le_rv_function.fit_transform(df_features['RV Function'])\n",
    "    df_features['Intervention'] = le_intervention.fit_transform(df_features['Intervention'])\n",
    "    df_features['Size/Location of Embolus'] = le_sloe.fit_transform(df_features['Size/Location of Embolus'])\n",
    "\n",
    "\n",
    "    cleaned_features = scaler.fit_transform(clean_and_mean((df_features)))\n",
    "    return(cleaned_features, labels)"
   ]
  },
  {
   "cell_type": "code",
   "execution_count": 7,
   "metadata": {
    "scrolled": false
   },
   "outputs": [],
   "source": [
    "data, cols = get_data('scar_data_2.csv')\n",
    "\n",
    "included_cols = []\n",
    "for x in col_names:\n",
    "    included_cols.append(cols.index(x))\n",
    "\n",
    "label_column = cols.index('Death within 1 year')\n",
    "\n",
    "f, l = seperate_features_and_labels(data, included_cols, label_column, col_names)\n",
    "d_f = pd.DataFrame(data=f, columns=col_names)"
   ]
  },
  {
   "cell_type": "code",
   "execution_count": 8,
   "metadata": {},
   "outputs": [],
   "source": [
    "# Establishing Random Forest Classifier and MinMaxScalar to normalize all features\n",
    "\n",
    "model = RandomForestClassifier(n_estimators=100, \n",
    "                               bootstrap = True,\n",
    "                               max_features = 'sqrt')\n",
    "scaler = MinMaxScaler(feature_range=(0, 1))"
   ]
  },
  {
   "cell_type": "code",
   "execution_count": 12,
   "metadata": {},
   "outputs": [
    {
     "name": "stdout",
     "output_type": "stream",
     "text": [
      "F1 Score: 0.8421052631578948\n",
      "Prec Score: 0.8888888888888888\n",
      "Recall Score: 0.8\n",
      "Accuracy Score: 0.8928571428571429\n",
      "true negative: 17\n",
      "false positive: 1\n",
      "false negative: 2\n",
      "true positive: 8\n"
     ]
    }
   ],
   "source": [
    "train, test, train_labels, test_labels = train_test_split(f, l, stratify = l, test_size = 0.3, random_state=50)\n",
    "model.fit(train, train_labels)\n",
    "\n",
    "y_preds = model.predict(test)\n",
    "\n",
    "prec_temp = precision_score(test_labels, y_preds)\n",
    "recall_temp = recall_score(test_labels, y_preds)\n",
    "\n",
    "print(\"F1 Score: {}\".format(f1_score(test_labels, y_preds)))\n",
    "print(\"Prec Score: {}\".format(prec_temp))\n",
    "print(\"Recall Score: {}\".format(recall_temp))\n",
    "print(\"Accuracy Score: {}\".format(accuracy_score(test_labels, y_preds)))\n",
    "\n",
    "tn, fp, fn, tp = confusion_matrix(test_labels, y_preds).ravel()\n",
    "print(\"true negative: {}\".format(tn))\n",
    "print(\"false positive: {}\".format(fp))\n",
    "print(\"false negative: {}\".format(fn))\n",
    "print(\"true positive: {}\".format(tp))"
   ]
  },
  {
   "cell_type": "code",
   "execution_count": 13,
   "metadata": {},
   "outputs": [
    {
     "data": {
      "text/html": [
       "<div>\n",
       "<style scoped>\n",
       "    .dataframe tbody tr th:only-of-type {\n",
       "        vertical-align: middle;\n",
       "    }\n",
       "\n",
       "    .dataframe tbody tr th {\n",
       "        vertical-align: top;\n",
       "    }\n",
       "\n",
       "    .dataframe thead th {\n",
       "        text-align: right;\n",
       "    }\n",
       "</style>\n",
       "<table border=\"1\" class=\"dataframe\">\n",
       "  <thead>\n",
       "    <tr style=\"text-align: right;\">\n",
       "      <th></th>\n",
       "      <th>feature</th>\n",
       "      <th>importance</th>\n",
       "    </tr>\n",
       "  </thead>\n",
       "  <tbody>\n",
       "    <tr>\n",
       "      <th>11</th>\n",
       "      <td>Original EndoGLS (%)</td>\n",
       "      <td>0.221256</td>\n",
       "    </tr>\n",
       "    <tr>\n",
       "      <th>10</th>\n",
       "      <td>Original FAC (%)</td>\n",
       "      <td>0.112244</td>\n",
       "    </tr>\n",
       "    <tr>\n",
       "      <th>9</th>\n",
       "      <td>Original ESA (cm2)</td>\n",
       "      <td>0.099626</td>\n",
       "    </tr>\n",
       "    <tr>\n",
       "      <th>8</th>\n",
       "      <td>Original EDA  (cm2)</td>\n",
       "      <td>0.070799</td>\n",
       "    </tr>\n",
       "    <tr>\n",
       "      <th>1</th>\n",
       "      <td>BMI</td>\n",
       "      <td>0.064109</td>\n",
       "    </tr>\n",
       "    <tr>\n",
       "      <th>14</th>\n",
       "      <td>RV Size</td>\n",
       "      <td>0.060573</td>\n",
       "    </tr>\n",
       "    <tr>\n",
       "      <th>17</th>\n",
       "      <td>TR Velocity</td>\n",
       "      <td>0.059754</td>\n",
       "    </tr>\n",
       "    <tr>\n",
       "      <th>18</th>\n",
       "      <td>Intervention</td>\n",
       "      <td>0.058598</td>\n",
       "    </tr>\n",
       "    <tr>\n",
       "      <th>2</th>\n",
       "      <td>DM (1/0)</td>\n",
       "      <td>0.048418</td>\n",
       "    </tr>\n",
       "    <tr>\n",
       "      <th>7</th>\n",
       "      <td>Hx of Malignancy (1/0)</td>\n",
       "      <td>0.046352</td>\n",
       "    </tr>\n",
       "  </tbody>\n",
       "</table>\n",
       "</div>"
      ],
      "text/plain": [
       "                   feature  importance\n",
       "11    Original EndoGLS (%)    0.221256\n",
       "10        Original FAC (%)    0.112244\n",
       "9       Original ESA (cm2)    0.099626\n",
       "8      Original EDA  (cm2)    0.070799\n",
       "1                      BMI    0.064109\n",
       "14                 RV Size    0.060573\n",
       "17             TR Velocity    0.059754\n",
       "18            Intervention    0.058598\n",
       "2                 DM (1/0)    0.048418\n",
       "7   Hx of Malignancy (1/0)    0.046352"
      ]
     },
     "execution_count": 13,
     "metadata": {},
     "output_type": "execute_result"
    }
   ],
   "source": [
    "# Extract feature importances\n",
    "\n",
    "fi = pd.DataFrame({'feature': list(col_names),\n",
    "                   'importance': model.feature_importances_}).\\\n",
    "                    sort_values('importance', ascending = False)\n",
    "\n",
    "# Display\n",
    "fi.head(10)"
   ]
  }
 ],
 "metadata": {
  "kernelspec": {
   "display_name": "Python 3",
   "language": "python",
   "name": "python3"
  },
  "language_info": {
   "codemirror_mode": {
    "name": "ipython",
    "version": 3
   },
   "file_extension": ".py",
   "mimetype": "text/x-python",
   "name": "python",
   "nbconvert_exporter": "python",
   "pygments_lexer": "ipython3",
   "version": "3.7.2"
  }
 },
 "nbformat": 4,
 "nbformat_minor": 2
}
